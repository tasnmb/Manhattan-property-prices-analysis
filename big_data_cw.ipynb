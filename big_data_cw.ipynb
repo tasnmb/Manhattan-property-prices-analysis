{
  "cells": [
    {
      "cell_type": "code",
      "execution_count": 26,
      "metadata": {
        "colab": {
          "base_uri": "https://localhost:8080/"
        },
        "id": "nHl0i8nCDVcP",
        "outputId": "3a0193ee-490a-4202-fc8f-15608313c254"
      },
      "outputs": [
        {
          "output_type": "stream",
          "name": "stdout",
          "text": [
            "Mounted at /content/gdrive\n"
          ]
        }
      ],
      "source": [
        "from google.colab import drive\n",
        "drive.mount('/content/gdrive')"
      ]
    },
    {
      "cell_type": "code",
      "execution_count": 152,
      "metadata": {
        "id": "MaWqETVZc2TP"
      },
      "outputs": [],
      "source": [
        "import pandas as pd\n",
        "import numpy as np\n",
        "import matplotlib.pyplot as plt\n",
        "import seaborn as sns\n",
        "from sklearn.preprocessing import MinMaxScaler"
      ]
    },
    {
      "cell_type": "code",
      "execution_count": 182,
      "metadata": {
        "colab": {
          "base_uri": "https://localhost:8080/"
        },
        "id": "8SupE-qwcp8K",
        "outputId": "7472cb74-5e9f-4cdf-fccd-d31c3fa68bc4"
      },
      "outputs": [
        {
          "output_type": "execute_result",
          "data": {
            "text/plain": [
              "(27395, 21)"
            ]
          },
          "metadata": {},
          "execution_count": 182
        }
      ],
      "source": [
        "data_url = \"/content/gdrive/MyDrive/UNI/Big Data Problem/Manhattan12.csv\"\n",
        "df = pd.read_csv(data_url)\n",
        "df.shape"
      ]
    },
    {
      "cell_type": "code",
      "source": [
        "df = df.rename(columns={\"SALE\\nPRICE\":\"PRICE\", \"APART\\nMENT\\nNUMBER\":\"APARTMENT NUMBER\"}) #rename columns\n",
        "df[\"ZIP CODE\"] = df[\"ZIP CODE\"].astype(str)\n",
        "df['YEAR BUILT'] = pd.to_datetime(df['YEAR BUILT'])\n",
        "df['YEAR BUILT'] = df[\"YEAR BUILT\"].dt.year\n",
        "df.set_index('YEAR BUILT')\n",
        "#remove ,/$ in int columns\n",
        "df['PRICE'] = df['PRICE'].str.replace(',', '')\n",
        "df['PRICE'] = df['PRICE'].str.replace('$', '')\n",
        "df['PRICE'] = df[\"PRICE\"].astype(int)\n",
        "df['LAND SQUARE FEET'] = df['LAND SQUARE FEET'].str.replace(',', '')\n",
        "df['LAND SQUARE FEET'] = df['LAND SQUARE FEET'].str.replace('$', '')\n",
        "df['LAND SQUARE FEET'] = df[\"LAND SQUARE FEET\"].astype(int)\n",
        "df['GROSS SQUARE FEET'] = df['GROSS SQUARE FEET'].str.replace(',', '')\n",
        "df['GROSS SQUARE FEET'] = df['GROSS SQUARE FEET'].str.replace('$', '')\n",
        "df['GROSS SQUARE FEET'] = df[\"GROSS SQUARE FEET\"].astype(int)\n",
        "df['SALE DATE'] = pd.to_datetime(df['SALE DATE']) #convert to datetime\n",
        "#replace all 0s\n",
        "df.replace(0, np.nan, inplace=True) \n",
        "df.replace(\"0\", np.nan, inplace=True)\n",
        "df.info() #show info\n",
        "print(\"\\n\\nTotal NaN at each column in DataFrame : \\n\\n\", df.isnull().sum()) #summarise null values\n",
        "df = df.drop(columns=['BOROUGH', 'EASE-MENT', 'APARTMENT NUMBER']) #drop columns\n",
        "df.drop_duplicates(keep=False, inplace=True) #drop dups\n",
        "df=df.dropna() #drop nas"
      ],
      "metadata": {
        "colab": {
          "base_uri": "https://localhost:8080/"
        },
        "id": "NqA0ELPHGl-i",
        "outputId": "1b1fc82c-caa1-4f64-af51-802055d1551e"
      },
      "execution_count": 183,
      "outputs": [
        {
          "output_type": "stream",
          "name": "stdout",
          "text": [
            "<class 'pandas.core.frame.DataFrame'>\n",
            "RangeIndex: 27395 entries, 0 to 27394\n",
            "Data columns (total 21 columns):\n",
            " #   Column                          Non-Null Count  Dtype         \n",
            "---  ------                          --------------  -----         \n",
            " 0   BOROUGH                         27395 non-null  int64         \n",
            " 1   NEIGHBORHOOD                    27378 non-null  object        \n",
            " 2   BUILDING CLASS CATEGORY         23941 non-null  object        \n",
            " 3   TAX CLASS AT PRESENT            27252 non-null  object        \n",
            " 4   BLOCK                           27395 non-null  int64         \n",
            " 5   LOT                             27395 non-null  int64         \n",
            " 6   EASE-MENT                       0 non-null      float64       \n",
            " 7   BUILDING CLASS AT PRESENT       27252 non-null  object        \n",
            " 8   ADDRESS                         27395 non-null  object        \n",
            " 9   APARTMENT NUMBER                12825 non-null  object        \n",
            " 10  ZIP CODE                        27394 non-null  object        \n",
            " 11  RESIDENTIAL UNITS               11023 non-null  object        \n",
            " 12  COMMERCIAL UNITS                3433 non-null   float64       \n",
            " 13  TOTAL UNITS                     17691 non-null  object        \n",
            " 14  LAND SQUARE FEET                4489 non-null   float64       \n",
            " 15  GROSS SQUARE FEET               4326 non-null   float64       \n",
            " 16  YEAR BUILT                      27395 non-null  int64         \n",
            " 17  TAX CLASS AT TIME OF SALE       27395 non-null  int64         \n",
            " 18  BUILDING CLASS AT TIME OF SALE  27395 non-null  object        \n",
            " 19  PRICE                           19802 non-null  float64       \n",
            " 20  SALE DATE                       27395 non-null  datetime64[ns]\n",
            "dtypes: datetime64[ns](1), float64(5), int64(5), object(10)\n",
            "memory usage: 4.4+ MB\n",
            "\n",
            "\n",
            "Total NaN at each column in DataFrame : \n",
            "\n",
            " BOROUGH                               0\n",
            "NEIGHBORHOOD                         17\n",
            "BUILDING CLASS CATEGORY            3454\n",
            "TAX CLASS AT PRESENT                143\n",
            "BLOCK                                 0\n",
            "LOT                                   0\n",
            "EASE-MENT                         27395\n",
            "BUILDING CLASS AT PRESENT           143\n",
            "ADDRESS                               0\n",
            "APARTMENT NUMBER                  14570\n",
            "ZIP CODE                              1\n",
            "RESIDENTIAL UNITS                 16372\n",
            "COMMERCIAL UNITS                  23962\n",
            "TOTAL UNITS                        9704\n",
            "LAND SQUARE FEET                  22906\n",
            "GROSS SQUARE FEET                 23069\n",
            "YEAR BUILT                            0\n",
            "TAX CLASS AT TIME OF SALE             0\n",
            "BUILDING CLASS AT TIME OF SALE        0\n",
            "PRICE                              7593\n",
            "SALE DATE                             0\n",
            "dtype: int64\n"
          ]
        },
        {
          "output_type": "stream",
          "name": "stderr",
          "text": [
            "<ipython-input-183-f2ece14e6e2d>:9: FutureWarning: The default value of regex will change from True to False in a future version. In addition, single character regular expressions will *not* be treated as literal strings when regex=True.\n",
            "  df['PRICE'] = df['PRICE'].str.replace('$', '')\n",
            "<ipython-input-183-f2ece14e6e2d>:12: FutureWarning: The default value of regex will change from True to False in a future version. In addition, single character regular expressions will *not* be treated as literal strings when regex=True.\n",
            "  df['LAND SQUARE FEET'] = df['LAND SQUARE FEET'].str.replace('$', '')\n",
            "<ipython-input-183-f2ece14e6e2d>:15: FutureWarning: The default value of regex will change from True to False in a future version. In addition, single character regular expressions will *not* be treated as literal strings when regex=True.\n",
            "  df['GROSS SQUARE FEET'] = df['GROSS SQUARE FEET'].str.replace('$', '')\n"
          ]
        }
      ]
    },
    {
      "cell_type": "markdown",
      "source": [],
      "metadata": {
        "id": "MbRNiNqHHXPU"
      }
    },
    {
      "cell_type": "code",
      "source": [
        "sns.scatterplot(data=df, x=\"GROSS SQUARE FEET\", y=\"PRICE\")\n",
        "plt.show()\n",
        "sns.scatterplot(data=df, x=\"LAND SQUARE FEET\", y=\"PRICE\")"
      ],
      "metadata": {
        "id": "x7fYquovPeHF"
      },
      "execution_count": null,
      "outputs": []
    },
    {
      "cell_type": "code",
      "source": [
        "df = df[np.abs(df.PRICE-df.PRICE.mean()) <= (2*df.PRICE.std())]\n",
        "df = df[np.abs(df[\"GROSS SQUARE FEET\"]-df[\"GROSS SQUARE FEET\"].mean()) <= (2*df[\"GROSS SQUARE FEET\"].std())]\n",
        "df = df[np.abs(df[\"LAND SQUARE FEET\"]-df[\"LAND SQUARE FEET\"].mean()) <= (2*df[\"LAND SQUARE FEET\"].std())]"
      ],
      "metadata": {
        "id": "TQLuH6KxLzZd"
      },
      "execution_count": 180,
      "outputs": []
    },
    {
      "cell_type": "code",
      "source": [
        "sns.scatterplot(data=df, x=\"GROSS SQUARE FEET\", y=\"PRICE\")\n",
        "plt.show()\n",
        "sns.scatterplot(data=df, x=\"LAND SQUARE FEET\", y=\"PRICE\")"
      ],
      "metadata": {
        "id": "a5JMN8j6Msxh"
      },
      "execution_count": null,
      "outputs": []
    },
    {
      "cell_type": "code",
      "source": [
        "df['PRICE'].hist()\n",
        "df['PRICE'].describe()"
      ],
      "metadata": {
        "id": "V-55pGSLLMUI"
      },
      "execution_count": null,
      "outputs": []
    },
    {
      "cell_type": "code",
      "source": [
        "df.shape"
      ],
      "metadata": {
        "id": "Gee5VeytGm9h"
      },
      "execution_count": null,
      "outputs": []
    },
    {
      "cell_type": "code",
      "source": [
        "df.head()"
      ],
      "metadata": {
        "colab": {
          "base_uri": "https://localhost:8080/",
          "height": 476
        },
        "id": "j18dA-FmQ1vF",
        "outputId": "310bb032-ee2e-444a-f622-b840e4959c7b"
      },
      "execution_count": 184,
      "outputs": [
        {
          "output_type": "execute_result",
          "data": {
            "text/plain": [
              "     NEIGHBORHOOD          BUILDING CLASS CATEGORY TAX CLASS AT PRESENT  \\\n",
              "24  ALPHABET CITY  07  RENTALS - WALKUP APARTMENTS                   2B   \n",
              "26  ALPHABET CITY  07  RENTALS - WALKUP APARTMENTS                    2   \n",
              "30  ALPHABET CITY  07  RENTALS - WALKUP APARTMENTS                    2   \n",
              "31  ALPHABET CITY  07  RENTALS - WALKUP APARTMENTS                   2B   \n",
              "32  ALPHABET CITY  07  RENTALS - WALKUP APARTMENTS                   2B   \n",
              "\n",
              "    BLOCK  LOT BUILDING CLASS AT PRESENT              ADDRESS ZIP CODE  \\\n",
              "24    385    1                        C7          17 AVENUE B    10009   \n",
              "26    397   33                        C7          14 AVENUE B    10009   \n",
              "30    398   53                        C7  170 EAST 2ND STREET    10009   \n",
              "31    400   56                        C4  203 EAST 4TH STREET    10009   \n",
              "32    400   57                        C4  201 EAST 4TH STREET    10009   \n",
              "\n",
              "   RESIDENTIAL UNITS  COMMERCIAL UNITS TOTAL UNITS  LAND SQUARE FEET  \\\n",
              "24                 7               1.0           8            2093.0   \n",
              "26                25               2.0          27            3574.0   \n",
              "30                36               3.0          39            4452.0   \n",
              "31                10               1.0          10            2404.0   \n",
              "32                 9               1.0           9            2404.0   \n",
              "\n",
              "    GROSS SQUARE FEET  YEAR BUILT  TAX CLASS AT TIME OF SALE  \\\n",
              "24             5852.0        1970                          2   \n",
              "26            18212.0        1970                          2   \n",
              "30            17664.0        1970                          2   \n",
              "31             6975.0        1970                          2   \n",
              "32             6875.0        1970                          2   \n",
              "\n",
              "   BUILDING CLASS AT TIME OF SALE       PRICE  SALE DATE  \n",
              "24                             C7       283.0 2013-04-18  \n",
              "26                             C7  13185684.0 2013-01-31  \n",
              "30                             C7   3810602.0 2012-10-26  \n",
              "31                             C4   7333333.0 2013-09-04  \n",
              "32                             C4   7333333.0 2013-09-04  "
            ],
            "text/html": [
              "\n",
              "  <div id=\"df-f8c69bbb-43f7-4e20-9772-7fb2ac0ec8da\">\n",
              "    <div class=\"colab-df-container\">\n",
              "      <div>\n",
              "<style scoped>\n",
              "    .dataframe tbody tr th:only-of-type {\n",
              "        vertical-align: middle;\n",
              "    }\n",
              "\n",
              "    .dataframe tbody tr th {\n",
              "        vertical-align: top;\n",
              "    }\n",
              "\n",
              "    .dataframe thead th {\n",
              "        text-align: right;\n",
              "    }\n",
              "</style>\n",
              "<table border=\"1\" class=\"dataframe\">\n",
              "  <thead>\n",
              "    <tr style=\"text-align: right;\">\n",
              "      <th></th>\n",
              "      <th>NEIGHBORHOOD</th>\n",
              "      <th>BUILDING CLASS CATEGORY</th>\n",
              "      <th>TAX CLASS AT PRESENT</th>\n",
              "      <th>BLOCK</th>\n",
              "      <th>LOT</th>\n",
              "      <th>BUILDING CLASS AT PRESENT</th>\n",
              "      <th>ADDRESS</th>\n",
              "      <th>ZIP CODE</th>\n",
              "      <th>RESIDENTIAL UNITS</th>\n",
              "      <th>COMMERCIAL UNITS</th>\n",
              "      <th>TOTAL UNITS</th>\n",
              "      <th>LAND SQUARE FEET</th>\n",
              "      <th>GROSS SQUARE FEET</th>\n",
              "      <th>YEAR BUILT</th>\n",
              "      <th>TAX CLASS AT TIME OF SALE</th>\n",
              "      <th>BUILDING CLASS AT TIME OF SALE</th>\n",
              "      <th>PRICE</th>\n",
              "      <th>SALE DATE</th>\n",
              "    </tr>\n",
              "  </thead>\n",
              "  <tbody>\n",
              "    <tr>\n",
              "      <th>24</th>\n",
              "      <td>ALPHABET CITY</td>\n",
              "      <td>07  RENTALS - WALKUP APARTMENTS</td>\n",
              "      <td>2B</td>\n",
              "      <td>385</td>\n",
              "      <td>1</td>\n",
              "      <td>C7</td>\n",
              "      <td>17 AVENUE B</td>\n",
              "      <td>10009</td>\n",
              "      <td>7</td>\n",
              "      <td>1.0</td>\n",
              "      <td>8</td>\n",
              "      <td>2093.0</td>\n",
              "      <td>5852.0</td>\n",
              "      <td>1970</td>\n",
              "      <td>2</td>\n",
              "      <td>C7</td>\n",
              "      <td>283.0</td>\n",
              "      <td>2013-04-18</td>\n",
              "    </tr>\n",
              "    <tr>\n",
              "      <th>26</th>\n",
              "      <td>ALPHABET CITY</td>\n",
              "      <td>07  RENTALS - WALKUP APARTMENTS</td>\n",
              "      <td>2</td>\n",
              "      <td>397</td>\n",
              "      <td>33</td>\n",
              "      <td>C7</td>\n",
              "      <td>14 AVENUE B</td>\n",
              "      <td>10009</td>\n",
              "      <td>25</td>\n",
              "      <td>2.0</td>\n",
              "      <td>27</td>\n",
              "      <td>3574.0</td>\n",
              "      <td>18212.0</td>\n",
              "      <td>1970</td>\n",
              "      <td>2</td>\n",
              "      <td>C7</td>\n",
              "      <td>13185684.0</td>\n",
              "      <td>2013-01-31</td>\n",
              "    </tr>\n",
              "    <tr>\n",
              "      <th>30</th>\n",
              "      <td>ALPHABET CITY</td>\n",
              "      <td>07  RENTALS - WALKUP APARTMENTS</td>\n",
              "      <td>2</td>\n",
              "      <td>398</td>\n",
              "      <td>53</td>\n",
              "      <td>C7</td>\n",
              "      <td>170 EAST 2ND STREET</td>\n",
              "      <td>10009</td>\n",
              "      <td>36</td>\n",
              "      <td>3.0</td>\n",
              "      <td>39</td>\n",
              "      <td>4452.0</td>\n",
              "      <td>17664.0</td>\n",
              "      <td>1970</td>\n",
              "      <td>2</td>\n",
              "      <td>C7</td>\n",
              "      <td>3810602.0</td>\n",
              "      <td>2012-10-26</td>\n",
              "    </tr>\n",
              "    <tr>\n",
              "      <th>31</th>\n",
              "      <td>ALPHABET CITY</td>\n",
              "      <td>07  RENTALS - WALKUP APARTMENTS</td>\n",
              "      <td>2B</td>\n",
              "      <td>400</td>\n",
              "      <td>56</td>\n",
              "      <td>C4</td>\n",
              "      <td>203 EAST 4TH STREET</td>\n",
              "      <td>10009</td>\n",
              "      <td>10</td>\n",
              "      <td>1.0</td>\n",
              "      <td>10</td>\n",
              "      <td>2404.0</td>\n",
              "      <td>6975.0</td>\n",
              "      <td>1970</td>\n",
              "      <td>2</td>\n",
              "      <td>C4</td>\n",
              "      <td>7333333.0</td>\n",
              "      <td>2013-09-04</td>\n",
              "    </tr>\n",
              "    <tr>\n",
              "      <th>32</th>\n",
              "      <td>ALPHABET CITY</td>\n",
              "      <td>07  RENTALS - WALKUP APARTMENTS</td>\n",
              "      <td>2B</td>\n",
              "      <td>400</td>\n",
              "      <td>57</td>\n",
              "      <td>C4</td>\n",
              "      <td>201 EAST 4TH STREET</td>\n",
              "      <td>10009</td>\n",
              "      <td>9</td>\n",
              "      <td>1.0</td>\n",
              "      <td>9</td>\n",
              "      <td>2404.0</td>\n",
              "      <td>6875.0</td>\n",
              "      <td>1970</td>\n",
              "      <td>2</td>\n",
              "      <td>C4</td>\n",
              "      <td>7333333.0</td>\n",
              "      <td>2013-09-04</td>\n",
              "    </tr>\n",
              "  </tbody>\n",
              "</table>\n",
              "</div>\n",
              "      <button class=\"colab-df-convert\" onclick=\"convertToInteractive('df-f8c69bbb-43f7-4e20-9772-7fb2ac0ec8da')\"\n",
              "              title=\"Convert this dataframe to an interactive table.\"\n",
              "              style=\"display:none;\">\n",
              "        \n",
              "  <svg xmlns=\"http://www.w3.org/2000/svg\" height=\"24px\"viewBox=\"0 0 24 24\"\n",
              "       width=\"24px\">\n",
              "    <path d=\"M0 0h24v24H0V0z\" fill=\"none\"/>\n",
              "    <path d=\"M18.56 5.44l.94 2.06.94-2.06 2.06-.94-2.06-.94-.94-2.06-.94 2.06-2.06.94zm-11 1L8.5 8.5l.94-2.06 2.06-.94-2.06-.94L8.5 2.5l-.94 2.06-2.06.94zm10 10l.94 2.06.94-2.06 2.06-.94-2.06-.94-.94-2.06-.94 2.06-2.06.94z\"/><path d=\"M17.41 7.96l-1.37-1.37c-.4-.4-.92-.59-1.43-.59-.52 0-1.04.2-1.43.59L10.3 9.45l-7.72 7.72c-.78.78-.78 2.05 0 2.83L4 21.41c.39.39.9.59 1.41.59.51 0 1.02-.2 1.41-.59l7.78-7.78 2.81-2.81c.8-.78.8-2.07 0-2.86zM5.41 20L4 18.59l7.72-7.72 1.47 1.35L5.41 20z\"/>\n",
              "  </svg>\n",
              "      </button>\n",
              "      \n",
              "  <style>\n",
              "    .colab-df-container {\n",
              "      display:flex;\n",
              "      flex-wrap:wrap;\n",
              "      gap: 12px;\n",
              "    }\n",
              "\n",
              "    .colab-df-convert {\n",
              "      background-color: #E8F0FE;\n",
              "      border: none;\n",
              "      border-radius: 50%;\n",
              "      cursor: pointer;\n",
              "      display: none;\n",
              "      fill: #1967D2;\n",
              "      height: 32px;\n",
              "      padding: 0 0 0 0;\n",
              "      width: 32px;\n",
              "    }\n",
              "\n",
              "    .colab-df-convert:hover {\n",
              "      background-color: #E2EBFA;\n",
              "      box-shadow: 0px 1px 2px rgba(60, 64, 67, 0.3), 0px 1px 3px 1px rgba(60, 64, 67, 0.15);\n",
              "      fill: #174EA6;\n",
              "    }\n",
              "\n",
              "    [theme=dark] .colab-df-convert {\n",
              "      background-color: #3B4455;\n",
              "      fill: #D2E3FC;\n",
              "    }\n",
              "\n",
              "    [theme=dark] .colab-df-convert:hover {\n",
              "      background-color: #434B5C;\n",
              "      box-shadow: 0px 1px 3px 1px rgba(0, 0, 0, 0.15);\n",
              "      filter: drop-shadow(0px 1px 2px rgba(0, 0, 0, 0.3));\n",
              "      fill: #FFFFFF;\n",
              "    }\n",
              "  </style>\n",
              "\n",
              "      <script>\n",
              "        const buttonEl =\n",
              "          document.querySelector('#df-f8c69bbb-43f7-4e20-9772-7fb2ac0ec8da button.colab-df-convert');\n",
              "        buttonEl.style.display =\n",
              "          google.colab.kernel.accessAllowed ? 'block' : 'none';\n",
              "\n",
              "        async function convertToInteractive(key) {\n",
              "          const element = document.querySelector('#df-f8c69bbb-43f7-4e20-9772-7fb2ac0ec8da');\n",
              "          const dataTable =\n",
              "            await google.colab.kernel.invokeFunction('convertToInteractive',\n",
              "                                                     [key], {});\n",
              "          if (!dataTable) return;\n",
              "\n",
              "          const docLinkHtml = 'Like what you see? Visit the ' +\n",
              "            '<a target=\"_blank\" href=https://colab.research.google.com/notebooks/data_table.ipynb>data table notebook</a>'\n",
              "            + ' to learn more about interactive tables.';\n",
              "          element.innerHTML = '';\n",
              "          dataTable['output_type'] = 'display_data';\n",
              "          await google.colab.output.renderOutput(dataTable, element);\n",
              "          const docLink = document.createElement('div');\n",
              "          docLink.innerHTML = docLinkHtml;\n",
              "          element.appendChild(docLink);\n",
              "        }\n",
              "      </script>\n",
              "    </div>\n",
              "  </div>\n",
              "  "
            ]
          },
          "metadata": {},
          "execution_count": 184
        }
      ]
    }
  ],
  "metadata": {
    "colab": {
      "provenance": []
    },
    "gpuClass": "standard",
    "kernelspec": {
      "display_name": "Python 3",
      "name": "python3"
    },
    "language_info": {
      "name": "python"
    }
  },
  "nbformat": 4,
  "nbformat_minor": 0
}