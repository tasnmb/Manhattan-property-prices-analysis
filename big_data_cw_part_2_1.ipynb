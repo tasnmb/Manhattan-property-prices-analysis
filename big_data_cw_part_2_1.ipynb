{
  "nbformat": 4,
  "nbformat_minor": 0,
  "metadata": {
    "colab": {
      "provenance": []
    },
    "kernelspec": {
      "name": "python3",
      "display_name": "Python 3"
    },
    "language_info": {
      "name": "python"
    }
  },
  "cells": [
    {
      "cell_type": "markdown",
      "source": [
        "#Part 2"
      ],
      "metadata": {
        "id": "xy1u57385qyA"
      }
    },
    {
      "cell_type": "markdown",
      "source": [
        "## Part 2.1"
      ],
      "metadata": {
        "id": "SDhQvivooLm8"
      }
    },
    {
      "cell_type": "markdown",
      "source": [
        "### Data Preparation + Cleaning"
      ],
      "metadata": {
        "id": "dsXs-ars6TPk"
      }
    },
    {
      "cell_type": "code",
      "source": [
        "from google.colab import drive\n",
        "drive.mount('/content/gdrive')"
      ],
      "metadata": {
        "colab": {
          "base_uri": "https://localhost:8080/"
        },
        "id": "nGPLAHnHyi4S",
        "outputId": "e19df417-a52f-4935-c421-0a7bb5c4ddf9"
      },
      "execution_count": null,
      "outputs": [
        {
          "output_type": "stream",
          "name": "stdout",
          "text": [
            "Drive already mounted at /content/gdrive; to attempt to forcibly remount, call drive.mount(\"/content/gdrive\", force_remount=True).\n"
          ]
        }
      ]
    },
    {
      "cell_type": "code",
      "execution_count": null,
      "metadata": {
        "id": "-ALYpZSqw-Br"
      },
      "outputs": [],
      "source": [
        "import pandas as pd\n",
        "import numpy as np\n",
        "import matplotlib.pyplot as plt\n",
        "import seaborn as sns\n",
        "from scipy import stats\n",
        "from sklearn.preprocessing import MinMaxScaler\n",
        "from sklearn import feature_selection, linear_model, model_selection\n",
        "from sklearn.linear_model import LogisticRegression\n",
        "from sklearn.model_selection import train_test_split, cross_val_score"
      ]
    },
    {
      "cell_type": "code",
      "source": [
        "# read csv (google collab)\n",
        "data_url = \"/content/gdrive/MyDrive/UNI/Big Data Problem/Manhattan12.csv\"\n",
        "df = pd.read_csv(data_url, header = 4)\n",
        "df = df.iloc[18:] #delete first 18 rows due to lack of data\n",
        "df.shape"
      ],
      "metadata": {
        "colab": {
          "base_uri": "https://localhost:8080/"
        },
        "id": "_VaMTw2XyTSn",
        "outputId": "a44e6538-986c-4c9c-b097-f5f1ad262eab"
      },
      "execution_count": null,
      "outputs": [
        {
          "output_type": "execute_result",
          "data": {
            "text/plain": [
              "(27377, 21)"
            ]
          },
          "metadata": {},
          "execution_count": 410
        }
      ]
    },
    {
      "cell_type": "code",
      "source": [
        "df.head()"
      ],
      "metadata": {
        "colab": {
          "base_uri": "https://localhost:8080/",
          "height": 560
        },
        "id": "PjnrhJLfyxef",
        "outputId": "57858604-3a31-4398-c772-2298d776f7a2"
      },
      "execution_count": null,
      "outputs": [
        {
          "output_type": "execute_result",
          "data": {
            "text/plain": [
              "    BOROUGH               NEIGHBORHOOD  \\\n",
              "18        1  ALPHABET CITY               \n",
              "19        1  ALPHABET CITY               \n",
              "20        1  ALPHABET CITY               \n",
              "21        1  ALPHABET CITY               \n",
              "22        1  ALPHABET CITY               \n",
              "\n",
              "                         BUILDING CLASS CATEGORY TAX CLASS AT PRESENT  BLOCK  \\\n",
              "18  03  THREE FAMILY HOMES                                          1    377   \n",
              "19  04  TAX CLASS 1 CONDOS                                         1C    399   \n",
              "20  07  RENTALS - WALKUP APARTMENTS                                2B    374   \n",
              "21  07  RENTALS - WALKUP APARTMENTS                                 2    375   \n",
              "22  07  RENTALS - WALKUP APARTMENTS                                 2    376   \n",
              "\n",
              "     LOT EASE-MENT BUILDING CLASS AT PRESENT  \\\n",
              "18    66                                  C0   \n",
              "19  1102                                  R6   \n",
              "20     1                                  C7   \n",
              "21    62                                  C4   \n",
              "22    30                                  C4   \n",
              "\n",
              "                                        ADDRESS APART\\nMENT\\nNUMBER  ...  \\\n",
              "18   243 EAST 7TH   STREET                                           ...   \n",
              "19   238 EAST 4TH   STREET                             -             ...   \n",
              "20   303 EAST 4TH STREET                                             ...   \n",
              "21   715 EAST 5TH   STREET                                           ...   \n",
              "22   274 EAST SEVENTH STREET                                         ...   \n",
              "\n",
              "    RESIDENTIAL UNITS COMMERCIAL UNITS  TOTAL UNITS LAND SQUARE FEET  \\\n",
              "18                  3                0            3            2,381   \n",
              "19                  1                0            1                0   \n",
              "20                  8                2           10            1,501   \n",
              "21                 20                0           20            2,426   \n",
              "22                 13                0           13            2,726   \n",
              "\n",
              "   GROSS SQUARE FEET YEAR BUILT  TAX CLASS AT TIME OF SALE  \\\n",
              "18             3,084       1899                          1   \n",
              "19                 0       1955                          1   \n",
              "20             6,929       1900                          2   \n",
              "21             9,345       1900                          2   \n",
              "22            13,002       1910                          2   \n",
              "\n",
              "    BUILDING CLASS AT TIME OF SALE SALE\\nPRICE   SALE DATE  \n",
              "18                             C0   $3,150,000  06/03/2013  \n",
              "19                             R6   $3,450,000  27/03/2013  \n",
              "20                             C7           $0  05/02/2013  \n",
              "21                             C4   $3,650,000  06/09/2012  \n",
              "22                             C4     $895,250  25/10/2012  \n",
              "\n",
              "[5 rows x 21 columns]"
            ],
            "text/html": [
              "\n",
              "  <div id=\"df-c4ad619b-a765-4493-97d6-5241a99f677f\">\n",
              "    <div class=\"colab-df-container\">\n",
              "      <div>\n",
              "<style scoped>\n",
              "    .dataframe tbody tr th:only-of-type {\n",
              "        vertical-align: middle;\n",
              "    }\n",
              "\n",
              "    .dataframe tbody tr th {\n",
              "        vertical-align: top;\n",
              "    }\n",
              "\n",
              "    .dataframe thead th {\n",
              "        text-align: right;\n",
              "    }\n",
              "</style>\n",
              "<table border=\"1\" class=\"dataframe\">\n",
              "  <thead>\n",
              "    <tr style=\"text-align: right;\">\n",
              "      <th></th>\n",
              "      <th>BOROUGH</th>\n",
              "      <th>NEIGHBORHOOD</th>\n",
              "      <th>BUILDING CLASS CATEGORY</th>\n",
              "      <th>TAX CLASS AT PRESENT</th>\n",
              "      <th>BLOCK</th>\n",
              "      <th>LOT</th>\n",
              "      <th>EASE-MENT</th>\n",
              "      <th>BUILDING CLASS AT PRESENT</th>\n",
              "      <th>ADDRESS</th>\n",
              "      <th>APART\\nMENT\\nNUMBER</th>\n",
              "      <th>...</th>\n",
              "      <th>RESIDENTIAL UNITS</th>\n",
              "      <th>COMMERCIAL UNITS</th>\n",
              "      <th>TOTAL UNITS</th>\n",
              "      <th>LAND SQUARE FEET</th>\n",
              "      <th>GROSS SQUARE FEET</th>\n",
              "      <th>YEAR BUILT</th>\n",
              "      <th>TAX CLASS AT TIME OF SALE</th>\n",
              "      <th>BUILDING CLASS AT TIME OF SALE</th>\n",
              "      <th>SALE\\nPRICE</th>\n",
              "      <th>SALE DATE</th>\n",
              "    </tr>\n",
              "  </thead>\n",
              "  <tbody>\n",
              "    <tr>\n",
              "      <th>18</th>\n",
              "      <td>1</td>\n",
              "      <td>ALPHABET CITY</td>\n",
              "      <td>03  THREE FAMILY HOMES</td>\n",
              "      <td>1</td>\n",
              "      <td>377</td>\n",
              "      <td>66</td>\n",
              "      <td></td>\n",
              "      <td>C0</td>\n",
              "      <td>243 EAST 7TH   STREET</td>\n",
              "      <td></td>\n",
              "      <td>...</td>\n",
              "      <td>3</td>\n",
              "      <td>0</td>\n",
              "      <td>3</td>\n",
              "      <td>2,381</td>\n",
              "      <td>3,084</td>\n",
              "      <td>1899</td>\n",
              "      <td>1</td>\n",
              "      <td>C0</td>\n",
              "      <td>$3,150,000</td>\n",
              "      <td>06/03/2013</td>\n",
              "    </tr>\n",
              "    <tr>\n",
              "      <th>19</th>\n",
              "      <td>1</td>\n",
              "      <td>ALPHABET CITY</td>\n",
              "      <td>04  TAX CLASS 1 CONDOS</td>\n",
              "      <td>1C</td>\n",
              "      <td>399</td>\n",
              "      <td>1102</td>\n",
              "      <td></td>\n",
              "      <td>R6</td>\n",
              "      <td>238 EAST 4TH   STREET</td>\n",
              "      <td>-</td>\n",
              "      <td>...</td>\n",
              "      <td>1</td>\n",
              "      <td>0</td>\n",
              "      <td>1</td>\n",
              "      <td>0</td>\n",
              "      <td>0</td>\n",
              "      <td>1955</td>\n",
              "      <td>1</td>\n",
              "      <td>R6</td>\n",
              "      <td>$3,450,000</td>\n",
              "      <td>27/03/2013</td>\n",
              "    </tr>\n",
              "    <tr>\n",
              "      <th>20</th>\n",
              "      <td>1</td>\n",
              "      <td>ALPHABET CITY</td>\n",
              "      <td>07  RENTALS - WALKUP APARTMENTS</td>\n",
              "      <td>2B</td>\n",
              "      <td>374</td>\n",
              "      <td>1</td>\n",
              "      <td></td>\n",
              "      <td>C7</td>\n",
              "      <td>303 EAST 4TH STREET</td>\n",
              "      <td></td>\n",
              "      <td>...</td>\n",
              "      <td>8</td>\n",
              "      <td>2</td>\n",
              "      <td>10</td>\n",
              "      <td>1,501</td>\n",
              "      <td>6,929</td>\n",
              "      <td>1900</td>\n",
              "      <td>2</td>\n",
              "      <td>C7</td>\n",
              "      <td>$0</td>\n",
              "      <td>05/02/2013</td>\n",
              "    </tr>\n",
              "    <tr>\n",
              "      <th>21</th>\n",
              "      <td>1</td>\n",
              "      <td>ALPHABET CITY</td>\n",
              "      <td>07  RENTALS - WALKUP APARTMENTS</td>\n",
              "      <td>2</td>\n",
              "      <td>375</td>\n",
              "      <td>62</td>\n",
              "      <td></td>\n",
              "      <td>C4</td>\n",
              "      <td>715 EAST 5TH   STREET</td>\n",
              "      <td></td>\n",
              "      <td>...</td>\n",
              "      <td>20</td>\n",
              "      <td>0</td>\n",
              "      <td>20</td>\n",
              "      <td>2,426</td>\n",
              "      <td>9,345</td>\n",
              "      <td>1900</td>\n",
              "      <td>2</td>\n",
              "      <td>C4</td>\n",
              "      <td>$3,650,000</td>\n",
              "      <td>06/09/2012</td>\n",
              "    </tr>\n",
              "    <tr>\n",
              "      <th>22</th>\n",
              "      <td>1</td>\n",
              "      <td>ALPHABET CITY</td>\n",
              "      <td>07  RENTALS - WALKUP APARTMENTS</td>\n",
              "      <td>2</td>\n",
              "      <td>376</td>\n",
              "      <td>30</td>\n",
              "      <td></td>\n",
              "      <td>C4</td>\n",
              "      <td>274 EAST SEVENTH STREET</td>\n",
              "      <td></td>\n",
              "      <td>...</td>\n",
              "      <td>13</td>\n",
              "      <td>0</td>\n",
              "      <td>13</td>\n",
              "      <td>2,726</td>\n",
              "      <td>13,002</td>\n",
              "      <td>1910</td>\n",
              "      <td>2</td>\n",
              "      <td>C4</td>\n",
              "      <td>$895,250</td>\n",
              "      <td>25/10/2012</td>\n",
              "    </tr>\n",
              "  </tbody>\n",
              "</table>\n",
              "<p>5 rows × 21 columns</p>\n",
              "</div>\n",
              "      <button class=\"colab-df-convert\" onclick=\"convertToInteractive('df-c4ad619b-a765-4493-97d6-5241a99f677f')\"\n",
              "              title=\"Convert this dataframe to an interactive table.\"\n",
              "              style=\"display:none;\">\n",
              "        \n",
              "  <svg xmlns=\"http://www.w3.org/2000/svg\" height=\"24px\"viewBox=\"0 0 24 24\"\n",
              "       width=\"24px\">\n",
              "    <path d=\"M0 0h24v24H0V0z\" fill=\"none\"/>\n",
              "    <path d=\"M18.56 5.44l.94 2.06.94-2.06 2.06-.94-2.06-.94-.94-2.06-.94 2.06-2.06.94zm-11 1L8.5 8.5l.94-2.06 2.06-.94-2.06-.94L8.5 2.5l-.94 2.06-2.06.94zm10 10l.94 2.06.94-2.06 2.06-.94-2.06-.94-.94-2.06-.94 2.06-2.06.94z\"/><path d=\"M17.41 7.96l-1.37-1.37c-.4-.4-.92-.59-1.43-.59-.52 0-1.04.2-1.43.59L10.3 9.45l-7.72 7.72c-.78.78-.78 2.05 0 2.83L4 21.41c.39.39.9.59 1.41.59.51 0 1.02-.2 1.41-.59l7.78-7.78 2.81-2.81c.8-.78.8-2.07 0-2.86zM5.41 20L4 18.59l7.72-7.72 1.47 1.35L5.41 20z\"/>\n",
              "  </svg>\n",
              "      </button>\n",
              "      \n",
              "  <style>\n",
              "    .colab-df-container {\n",
              "      display:flex;\n",
              "      flex-wrap:wrap;\n",
              "      gap: 12px;\n",
              "    }\n",
              "\n",
              "    .colab-df-convert {\n",
              "      background-color: #E8F0FE;\n",
              "      border: none;\n",
              "      border-radius: 50%;\n",
              "      cursor: pointer;\n",
              "      display: none;\n",
              "      fill: #1967D2;\n",
              "      height: 32px;\n",
              "      padding: 0 0 0 0;\n",
              "      width: 32px;\n",
              "    }\n",
              "\n",
              "    .colab-df-convert:hover {\n",
              "      background-color: #E2EBFA;\n",
              "      box-shadow: 0px 1px 2px rgba(60, 64, 67, 0.3), 0px 1px 3px 1px rgba(60, 64, 67, 0.15);\n",
              "      fill: #174EA6;\n",
              "    }\n",
              "\n",
              "    [theme=dark] .colab-df-convert {\n",
              "      background-color: #3B4455;\n",
              "      fill: #D2E3FC;\n",
              "    }\n",
              "\n",
              "    [theme=dark] .colab-df-convert:hover {\n",
              "      background-color: #434B5C;\n",
              "      box-shadow: 0px 1px 3px 1px rgba(0, 0, 0, 0.15);\n",
              "      filter: drop-shadow(0px 1px 2px rgba(0, 0, 0, 0.3));\n",
              "      fill: #FFFFFF;\n",
              "    }\n",
              "  </style>\n",
              "\n",
              "      <script>\n",
              "        const buttonEl =\n",
              "          document.querySelector('#df-c4ad619b-a765-4493-97d6-5241a99f677f button.colab-df-convert');\n",
              "        buttonEl.style.display =\n",
              "          google.colab.kernel.accessAllowed ? 'block' : 'none';\n",
              "\n",
              "        async function convertToInteractive(key) {\n",
              "          const element = document.querySelector('#df-c4ad619b-a765-4493-97d6-5241a99f677f');\n",
              "          const dataTable =\n",
              "            await google.colab.kernel.invokeFunction('convertToInteractive',\n",
              "                                                     [key], {});\n",
              "          if (!dataTable) return;\n",
              "\n",
              "          const docLinkHtml = 'Like what you see? Visit the ' +\n",
              "            '<a target=\"_blank\" href=https://colab.research.google.com/notebooks/data_table.ipynb>data table notebook</a>'\n",
              "            + ' to learn more about interactive tables.';\n",
              "          element.innerHTML = '';\n",
              "          dataTable['output_type'] = 'display_data';\n",
              "          await google.colab.output.renderOutput(dataTable, element);\n",
              "          const docLink = document.createElement('div');\n",
              "          docLink.innerHTML = docLinkHtml;\n",
              "          element.appendChild(docLink);\n",
              "        }\n",
              "      </script>\n",
              "    </div>\n",
              "  </div>\n",
              "  "
            ]
          },
          "metadata": {},
          "execution_count": 411
        }
      ]
    },
    {
      "cell_type": "code",
      "source": [
        "df = df.rename(columns={\"SALE\\nPRICE\":\"SALE PRICE\", \"APART\\nMENT\\nNUMBER\":\"APARTMENT NUMBER\"}) #rename columns"
      ],
      "metadata": {
        "id": "RIBbyWnZ5i5u"
      },
      "execution_count": null,
      "outputs": []
    },
    {
      "cell_type": "code",
      "source": [
        "df = df.drop(columns=['BOROUGH', 'EASE-MENT', 'APARTMENT NUMBER'])"
      ],
      "metadata": {
        "id": "S9_cNZEr7G_G"
      },
      "execution_count": null,
      "outputs": []
    },
    {
      "cell_type": "code",
      "source": [
        "def price_to_int(column):\n",
        "    df[column] = df[column].str.replace(',','', regex=True).str.replace('$','', regex=True).astype('int')\n",
        "  \n",
        "price_to_int('SALE PRICE')\n",
        "price_to_int('LAND SQUARE FEET')\n",
        "price_to_int('GROSS SQUARE FEET')\n",
        "price_to_int('TOTAL UNITS')\n",
        "price_to_int('RESIDENTIAL UNITS')"
      ],
      "metadata": {
        "id": "vNpuayrZ6gkV"
      },
      "execution_count": null,
      "outputs": []
    },
    {
      "cell_type": "code",
      "source": [
        "# list all numerical variables \n",
        "df_nums = df.select_dtypes(include=[np.number])\n",
        "list(df_nums)"
      ],
      "metadata": {
        "colab": {
          "base_uri": "https://localhost:8080/"
        },
        "id": "PCxN1mrY6iFP",
        "outputId": "fd2f09df-f7d8-4825-9909-9e0ccff898e1"
      },
      "execution_count": null,
      "outputs": [
        {
          "output_type": "execute_result",
          "data": {
            "text/plain": [
              "['BLOCK',\n",
              " 'LOT',\n",
              " 'ZIP CODE',\n",
              " 'RESIDENTIAL UNITS',\n",
              " 'COMMERCIAL UNITS',\n",
              " 'TOTAL UNITS',\n",
              " 'LAND SQUARE FEET',\n",
              " 'GROSS SQUARE FEET',\n",
              " 'YEAR BUILT',\n",
              " 'TAX CLASS AT TIME OF SALE',\n",
              " 'SALE PRICE']"
            ]
          },
          "metadata": {},
          "execution_count": 415
        }
      ]
    },
    {
      "cell_type": "code",
      "source": [
        "# list all categorical values\n",
        "df_cat = df.select_dtypes(include=[object])\n",
        "list(df_cat)"
      ],
      "metadata": {
        "colab": {
          "base_uri": "https://localhost:8080/"
        },
        "id": "H6rrYfu36jOw",
        "outputId": "3bcd8df4-69f1-4aaa-8b57-0b39c8c9d583"
      },
      "execution_count": null,
      "outputs": [
        {
          "output_type": "execute_result",
          "data": {
            "text/plain": [
              "['NEIGHBORHOOD',\n",
              " 'BUILDING CLASS CATEGORY',\n",
              " 'TAX CLASS AT PRESENT',\n",
              " 'BUILDING CLASS AT PRESENT',\n",
              " 'ADDRESS',\n",
              " 'BUILDING CLASS AT TIME OF SALE',\n",
              " 'SALE DATE']"
            ]
          },
          "metadata": {},
          "execution_count": 416
        }
      ]
    },
    {
      "cell_type": "code",
      "source": [
        "df['SALE DATE'] = pd.to_datetime(df['SALE DATE'], dayfirst=True) # convert sale date to datetime"
      ],
      "metadata": {
        "id": "ySlHR0Aa6kT8"
      },
      "execution_count": null,
      "outputs": []
    },
    {
      "cell_type": "code",
      "source": [
        "# replace 0 with NaN\n",
        "df.replace(0, np.nan, inplace=True) \n",
        "df.replace(\"0\", np.nan, inplace=True)\n",
        "\n",
        "pd.isnull(df).sum()"
      ],
      "metadata": {
        "colab": {
          "base_uri": "https://localhost:8080/"
        },
        "id": "yqLuLQhH6xZp",
        "outputId": "84d610d0-fab1-4f23-d008-79e2aa8171cc"
      },
      "execution_count": null,
      "outputs": [
        {
          "output_type": "execute_result",
          "data": {
            "text/plain": [
              "NEIGHBORHOOD                          0\n",
              "BUILDING CLASS CATEGORY               0\n",
              "TAX CLASS AT PRESENT                  0\n",
              "BLOCK                                 0\n",
              "LOT                                   0\n",
              "BUILDING CLASS AT PRESENT             0\n",
              "ADDRESS                               0\n",
              "ZIP CODE                              1\n",
              "RESIDENTIAL UNITS                 16354\n",
              "COMMERCIAL UNITS                  23944\n",
              "TOTAL UNITS                        9687\n",
              "LAND SQUARE FEET                  22888\n",
              "GROSS SQUARE FEET                 23051\n",
              "YEAR BUILT                         6424\n",
              "TAX CLASS AT TIME OF SALE             0\n",
              "BUILDING CLASS AT TIME OF SALE        0\n",
              "SALE PRICE                         7593\n",
              "SALE DATE                             0\n",
              "dtype: int64"
            ]
          },
          "metadata": {},
          "execution_count": 418
        }
      ]
    },
    {
      "cell_type": "code",
      "source": [
        "# finding out how many dupliactes there are by subtracting duplicates from 'drop duplicates' from entire dataframe\n",
        "len(df)-len(df.drop_duplicates())"
      ],
      "metadata": {
        "colab": {
          "base_uri": "https://localhost:8080/"
        },
        "id": "vALXQRA873i_",
        "outputId": "b39a4aa2-fde0-4aff-8522-2721aba4d86c"
      },
      "execution_count": null,
      "outputs": [
        {
          "output_type": "execute_result",
          "data": {
            "text/plain": [
              "1593"
            ]
          },
          "metadata": {},
          "execution_count": 419
        }
      ]
    },
    {
      "cell_type": "code",
      "source": [
        "df.drop_duplicates(keep='first', inplace=True)\n",
        "df = df[df['ZIP CODE'].notna()] #there was 1 missing na value\n",
        "\n",
        "df.shape"
      ],
      "metadata": {
        "colab": {
          "base_uri": "https://localhost:8080/"
        },
        "id": "94Ric7WzqID1",
        "outputId": "cf9ac5cf-6168-4cfc-d513-8fa08db52dd2"
      },
      "execution_count": null,
      "outputs": [
        {
          "output_type": "execute_result",
          "data": {
            "text/plain": [
              "(25783, 18)"
            ]
          },
          "metadata": {},
          "execution_count": 420
        }
      ]
    },
    {
      "cell_type": "code",
      "source": [
        "pd.isnull(df).sum()"
      ],
      "metadata": {
        "colab": {
          "base_uri": "https://localhost:8080/"
        },
        "id": "jUwRwSDDzBtC",
        "outputId": "e210dc72-9650-424e-9951-3a9efa7712d7"
      },
      "execution_count": null,
      "outputs": [
        {
          "output_type": "execute_result",
          "data": {
            "text/plain": [
              "NEIGHBORHOOD                          0\n",
              "BUILDING CLASS CATEGORY               0\n",
              "TAX CLASS AT PRESENT                  0\n",
              "BLOCK                                 0\n",
              "LOT                                   0\n",
              "BUILDING CLASS AT PRESENT             0\n",
              "ADDRESS                               0\n",
              "ZIP CODE                              0\n",
              "RESIDENTIAL UNITS                 14996\n",
              "COMMERCIAL UNITS                  23125\n",
              "TOTAL UNITS                        9617\n",
              "LAND SQUARE FEET                  22119\n",
              "GROSS SQUARE FEET                 22268\n",
              "YEAR BUILT                         5826\n",
              "TAX CLASS AT TIME OF SALE             0\n",
              "BUILDING CLASS AT TIME OF SALE        0\n",
              "SALE PRICE                         6872\n",
              "SALE DATE                             0\n",
              "dtype: int64"
            ]
          },
          "metadata": {},
          "execution_count": 421
        }
      ]
    },
    {
      "cell_type": "code",
      "source": [
        "#Using linear interpolation to fill in the missing gaps in all the data.\n",
        "df['LAND SQUARE FEET'] = df['LAND SQUARE FEET'].interpolate(method ='linear', limit_direction ='both')\n",
        "df['GROSS SQUARE FEET'] = df['GROSS SQUARE FEET'].interpolate(method ='linear', limit_direction ='both')\n",
        "df['LAND SQUARE FEET'] = df['LAND SQUARE FEET'].interpolate(method ='linear', limit_direction ='both')\n",
        "df['YEAR BUILT'] = df['YEAR BUILT'].interpolate(method ='linear', limit_direction ='both')\n",
        "df['COMMERCIAL UNITS'] = df['COMMERCIAL UNITS'].interpolate(method ='linear', limit_direction ='both')\n",
        "df['RESIDENTIAL UNITS'] = df['RESIDENTIAL UNITS'].interpolate(method ='linear', limit_direction ='both')\n",
        "df['SALE PRICE'] = df['SALE PRICE'].interpolate(method ='linear', limit_direction ='both')\n",
        "df[\"BUILDING CLASS CATEGORY\"] = df[\"BUILDING CLASS CATEGORY\"].interpolate(method='pad')\n",
        "\n",
        "pd.isnull(df).sum()"
      ],
      "metadata": {
        "colab": {
          "base_uri": "https://localhost:8080/"
        },
        "id": "kkZR5wBMs9_e",
        "outputId": "34e7ac78-86cc-4d12-e105-f12cc356aa05"
      },
      "execution_count": null,
      "outputs": [
        {
          "output_type": "stream",
          "name": "stderr",
          "text": [
            "<ipython-input-422-685555a3c8a0>:1: SettingWithCopyWarning: \n",
            "A value is trying to be set on a copy of a slice from a DataFrame.\n",
            "Try using .loc[row_indexer,col_indexer] = value instead\n",
            "\n",
            "See the caveats in the documentation: https://pandas.pydata.org/pandas-docs/stable/user_guide/indexing.html#returning-a-view-versus-a-copy\n",
            "  df['LAND SQUARE FEET'] = df['LAND SQUARE FEET'].interpolate(method ='linear', limit_direction ='both')\n",
            "<ipython-input-422-685555a3c8a0>:2: SettingWithCopyWarning: \n",
            "A value is trying to be set on a copy of a slice from a DataFrame.\n",
            "Try using .loc[row_indexer,col_indexer] = value instead\n",
            "\n",
            "See the caveats in the documentation: https://pandas.pydata.org/pandas-docs/stable/user_guide/indexing.html#returning-a-view-versus-a-copy\n",
            "  df['GROSS SQUARE FEET'] = df['GROSS SQUARE FEET'].interpolate(method ='linear', limit_direction ='both')\n",
            "<ipython-input-422-685555a3c8a0>:3: SettingWithCopyWarning: \n",
            "A value is trying to be set on a copy of a slice from a DataFrame.\n",
            "Try using .loc[row_indexer,col_indexer] = value instead\n",
            "\n",
            "See the caveats in the documentation: https://pandas.pydata.org/pandas-docs/stable/user_guide/indexing.html#returning-a-view-versus-a-copy\n",
            "  df['LAND SQUARE FEET'] = df['LAND SQUARE FEET'].interpolate(method ='linear', limit_direction ='both')\n",
            "<ipython-input-422-685555a3c8a0>:4: SettingWithCopyWarning: \n",
            "A value is trying to be set on a copy of a slice from a DataFrame.\n",
            "Try using .loc[row_indexer,col_indexer] = value instead\n",
            "\n",
            "See the caveats in the documentation: https://pandas.pydata.org/pandas-docs/stable/user_guide/indexing.html#returning-a-view-versus-a-copy\n",
            "  df['YEAR BUILT'] = df['YEAR BUILT'].interpolate(method ='linear', limit_direction ='both')\n",
            "<ipython-input-422-685555a3c8a0>:5: SettingWithCopyWarning: \n",
            "A value is trying to be set on a copy of a slice from a DataFrame.\n",
            "Try using .loc[row_indexer,col_indexer] = value instead\n",
            "\n",
            "See the caveats in the documentation: https://pandas.pydata.org/pandas-docs/stable/user_guide/indexing.html#returning-a-view-versus-a-copy\n",
            "  df['COMMERCIAL UNITS'] = df['COMMERCIAL UNITS'].interpolate(method ='linear', limit_direction ='both')\n",
            "<ipython-input-422-685555a3c8a0>:6: SettingWithCopyWarning: \n",
            "A value is trying to be set on a copy of a slice from a DataFrame.\n",
            "Try using .loc[row_indexer,col_indexer] = value instead\n",
            "\n",
            "See the caveats in the documentation: https://pandas.pydata.org/pandas-docs/stable/user_guide/indexing.html#returning-a-view-versus-a-copy\n",
            "  df['RESIDENTIAL UNITS'] = df['RESIDENTIAL UNITS'].interpolate(method ='linear', limit_direction ='both')\n",
            "<ipython-input-422-685555a3c8a0>:7: SettingWithCopyWarning: \n",
            "A value is trying to be set on a copy of a slice from a DataFrame.\n",
            "Try using .loc[row_indexer,col_indexer] = value instead\n",
            "\n",
            "See the caveats in the documentation: https://pandas.pydata.org/pandas-docs/stable/user_guide/indexing.html#returning-a-view-versus-a-copy\n",
            "  df['SALE PRICE'] = df['SALE PRICE'].interpolate(method ='linear', limit_direction ='both')\n",
            "<ipython-input-422-685555a3c8a0>:8: SettingWithCopyWarning: \n",
            "A value is trying to be set on a copy of a slice from a DataFrame.\n",
            "Try using .loc[row_indexer,col_indexer] = value instead\n",
            "\n",
            "See the caveats in the documentation: https://pandas.pydata.org/pandas-docs/stable/user_guide/indexing.html#returning-a-view-versus-a-copy\n",
            "  df[\"BUILDING CLASS CATEGORY\"] = df[\"BUILDING CLASS CATEGORY\"].interpolate(method='pad')\n"
          ]
        },
        {
          "output_type": "execute_result",
          "data": {
            "text/plain": [
              "NEIGHBORHOOD                         0\n",
              "BUILDING CLASS CATEGORY              0\n",
              "TAX CLASS AT PRESENT                 0\n",
              "BLOCK                                0\n",
              "LOT                                  0\n",
              "BUILDING CLASS AT PRESENT            0\n",
              "ADDRESS                              0\n",
              "ZIP CODE                             0\n",
              "RESIDENTIAL UNITS                    0\n",
              "COMMERCIAL UNITS                     0\n",
              "TOTAL UNITS                       9617\n",
              "LAND SQUARE FEET                     0\n",
              "GROSS SQUARE FEET                    0\n",
              "YEAR BUILT                           0\n",
              "TAX CLASS AT TIME OF SALE            0\n",
              "BUILDING CLASS AT TIME OF SALE       0\n",
              "SALE PRICE                           0\n",
              "SALE DATE                            0\n",
              "dtype: int64"
            ]
          },
          "metadata": {},
          "execution_count": 422
        }
      ]
    },
    {
      "cell_type": "code",
      "source": [
        "def convert_to_int(column): #Converts columns to the integer type\n",
        "  df[column] = df[column].apply(int)\n",
        "\n",
        "columns_to_int = [\"COMMERCIAL UNITS\", \"RESIDENTIAL UNITS\", \"LAND SQUARE FEET\", \"GROSS SQUARE FEET\", \"YEAR BUILT\", \"ZIP CODE\"]\n",
        "\n",
        "for x in columns_to_int:\n",
        "  convert_to_int(x)"
      ],
      "metadata": {
        "id": "rHpwXJxSxbXz"
      },
      "execution_count": null,
      "outputs": []
    },
    {
      "cell_type": "code",
      "source": [
        "df.dtypes"
      ],
      "metadata": {
        "colab": {
          "base_uri": "https://localhost:8080/"
        },
        "id": "F1-qr8GJ1YMx",
        "outputId": "ca0c210e-5c7b-4a07-862e-c1f6b4e4bf68"
      },
      "execution_count": null,
      "outputs": [
        {
          "output_type": "execute_result",
          "data": {
            "text/plain": [
              "NEIGHBORHOOD                              object\n",
              "BUILDING CLASS CATEGORY                   object\n",
              "TAX CLASS AT PRESENT                      object\n",
              "BLOCK                                      int64\n",
              "LOT                                        int64\n",
              "BUILDING CLASS AT PRESENT                 object\n",
              "ADDRESS                                   object\n",
              "ZIP CODE                                   int64\n",
              "RESIDENTIAL UNITS                          int64\n",
              "COMMERCIAL UNITS                           int64\n",
              "TOTAL UNITS                              float64\n",
              "LAND SQUARE FEET                           int64\n",
              "GROSS SQUARE FEET                          int64\n",
              "YEAR BUILT                                 int64\n",
              "TAX CLASS AT TIME OF SALE                  int64\n",
              "BUILDING CLASS AT TIME OF SALE            object\n",
              "SALE PRICE                               float64\n",
              "SALE DATE                         datetime64[ns]\n",
              "dtype: object"
            ]
          },
          "metadata": {},
          "execution_count": 424
        }
      ]
    },
    {
      "cell_type": "code",
      "source": [
        "df['TOTAL UNITS'] = df['RESIDENTIAL UNITS'] + df['COMMERCIAL UNITS'] #Add the residential and commercial units together"
      ],
      "metadata": {
        "id": "0jlVtYEw2ukt"
      },
      "execution_count": null,
      "outputs": []
    }
  ]
}