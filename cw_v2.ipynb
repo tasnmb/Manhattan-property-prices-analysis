{
 "cells": [
  {
   "cell_type": "code",
   "execution_count": 1,
   "metadata": {},
   "outputs": [],
   "source": [
    "import pandas as pd\n",
    "import numpy as np\n",
    "import matplotlib.pyplot as plt\n",
    "import seaborn as sns\n",
    "from sklearn.preprocessing import MinMaxScaler"
   ]
  },
  {
   "cell_type": "code",
   "execution_count": 2,
   "metadata": {},
   "outputs": [],
   "source": [
    "# read csv (google collab)\n",
    "# data_url = \"/content/gdrive/MyDrive/UNI/Big Data Problem/Manhattan12.csv\"\n",
    "# df = pd.read_csv(data_url, header = 4)\n",
    "# df.shape"
   ]
  },
  {
   "cell_type": "code",
   "execution_count": 3,
   "metadata": {},
   "outputs": [
    {
     "data": {
      "text/plain": [
       "(27395, 21)"
      ]
     },
     "execution_count": 3,
     "metadata": {},
     "output_type": "execute_result"
    }
   ],
   "source": [
    "# read csv (vs code/ python notebook)\n",
    "# header is defined so that text at top of csv is skipped\n",
    "df = pd.read_csv(\"Manhattan12.csv\", header = 4)\n",
    "df.shape"
   ]
  },
  {
   "cell_type": "code",
   "execution_count": 4,
   "metadata": {},
   "outputs": [
    {
     "data": {
      "text/html": [
       "<div>\n",
       "<style scoped>\n",
       "    .dataframe tbody tr th:only-of-type {\n",
       "        vertical-align: middle;\n",
       "    }\n",
       "\n",
       "    .dataframe tbody tr th {\n",
       "        vertical-align: top;\n",
       "    }\n",
       "\n",
       "    .dataframe thead th {\n",
       "        text-align: right;\n",
       "    }\n",
       "</style>\n",
       "<table border=\"1\" class=\"dataframe\">\n",
       "  <thead>\n",
       "    <tr style=\"text-align: right;\">\n",
       "      <th></th>\n",
       "      <th>BOROUGH</th>\n",
       "      <th>NEIGHBORHOOD</th>\n",
       "      <th>BUILDING CLASS CATEGORY</th>\n",
       "      <th>TAX CLASS AT PRESENT</th>\n",
       "      <th>BLOCK</th>\n",
       "      <th>LOT</th>\n",
       "      <th>EASE-MENT</th>\n",
       "      <th>BUILDING CLASS AT PRESENT</th>\n",
       "      <th>ADDRESS</th>\n",
       "      <th>APART\\nMENT\\nNUMBER</th>\n",
       "      <th>...</th>\n",
       "      <th>RESIDENTIAL UNITS</th>\n",
       "      <th>COMMERCIAL UNITS</th>\n",
       "      <th>TOTAL UNITS</th>\n",
       "      <th>LAND SQUARE FEET</th>\n",
       "      <th>GROSS SQUARE FEET</th>\n",
       "      <th>YEAR BUILT</th>\n",
       "      <th>TAX CLASS AT TIME OF SALE</th>\n",
       "      <th>BUILDING CLASS AT TIME OF SALE</th>\n",
       "      <th>SALE\\nPRICE</th>\n",
       "      <th>SALE DATE</th>\n",
       "    </tr>\n",
       "  </thead>\n",
       "  <tbody>\n",
       "    <tr>\n",
       "      <th>0</th>\n",
       "      <td>1</td>\n",
       "      <td></td>\n",
       "      <td>13  CONDOS - ELEVATOR APARTMENTS</td>\n",
       "      <td></td>\n",
       "      <td>738</td>\n",
       "      <td>1306</td>\n",
       "      <td></td>\n",
       "      <td></td>\n",
       "      <td>345 WEST 14TH   STREET</td>\n",
       "      <td></td>\n",
       "      <td>...</td>\n",
       "      <td>0</td>\n",
       "      <td>0</td>\n",
       "      <td>0</td>\n",
       "      <td>0</td>\n",
       "      <td>0</td>\n",
       "      <td>0</td>\n",
       "      <td>2</td>\n",
       "      <td>R4</td>\n",
       "      <td>$2,214,693</td>\n",
       "      <td>20/05/2013</td>\n",
       "    </tr>\n",
       "    <tr>\n",
       "      <th>1</th>\n",
       "      <td>1</td>\n",
       "      <td></td>\n",
       "      <td>13  CONDOS - ELEVATOR APARTMENTS</td>\n",
       "      <td></td>\n",
       "      <td>738</td>\n",
       "      <td>1307</td>\n",
       "      <td></td>\n",
       "      <td></td>\n",
       "      <td>345 WEST 14TH   STREET</td>\n",
       "      <td></td>\n",
       "      <td>...</td>\n",
       "      <td>0</td>\n",
       "      <td>0</td>\n",
       "      <td>0</td>\n",
       "      <td>0</td>\n",
       "      <td>0</td>\n",
       "      <td>0</td>\n",
       "      <td>2</td>\n",
       "      <td>R4</td>\n",
       "      <td>$1,654,656</td>\n",
       "      <td>16/05/2013</td>\n",
       "    </tr>\n",
       "    <tr>\n",
       "      <th>2</th>\n",
       "      <td>1</td>\n",
       "      <td></td>\n",
       "      <td>13  CONDOS - ELEVATOR APARTMENTS</td>\n",
       "      <td></td>\n",
       "      <td>738</td>\n",
       "      <td>1308</td>\n",
       "      <td></td>\n",
       "      <td></td>\n",
       "      <td>345 WEST 14TH   STREET</td>\n",
       "      <td></td>\n",
       "      <td>...</td>\n",
       "      <td>0</td>\n",
       "      <td>0</td>\n",
       "      <td>0</td>\n",
       "      <td>0</td>\n",
       "      <td>0</td>\n",
       "      <td>0</td>\n",
       "      <td>2</td>\n",
       "      <td>R4</td>\n",
       "      <td>$1,069,162</td>\n",
       "      <td>23/05/2013</td>\n",
       "    </tr>\n",
       "    <tr>\n",
       "      <th>3</th>\n",
       "      <td>1</td>\n",
       "      <td></td>\n",
       "      <td>13  CONDOS - ELEVATOR APARTMENTS</td>\n",
       "      <td></td>\n",
       "      <td>738</td>\n",
       "      <td>1309</td>\n",
       "      <td></td>\n",
       "      <td></td>\n",
       "      <td>345 WEST 14TH   STREET</td>\n",
       "      <td></td>\n",
       "      <td>...</td>\n",
       "      <td>0</td>\n",
       "      <td>0</td>\n",
       "      <td>0</td>\n",
       "      <td>0</td>\n",
       "      <td>0</td>\n",
       "      <td>0</td>\n",
       "      <td>2</td>\n",
       "      <td>R4</td>\n",
       "      <td>$1,374,637</td>\n",
       "      <td>15/05/2013</td>\n",
       "    </tr>\n",
       "    <tr>\n",
       "      <th>4</th>\n",
       "      <td>1</td>\n",
       "      <td></td>\n",
       "      <td>13  CONDOS - ELEVATOR APARTMENTS</td>\n",
       "      <td></td>\n",
       "      <td>738</td>\n",
       "      <td>1310</td>\n",
       "      <td></td>\n",
       "      <td></td>\n",
       "      <td>345 WEST 14TH   STREET</td>\n",
       "      <td></td>\n",
       "      <td>...</td>\n",
       "      <td>0</td>\n",
       "      <td>0</td>\n",
       "      <td>0</td>\n",
       "      <td>0</td>\n",
       "      <td>0</td>\n",
       "      <td>0</td>\n",
       "      <td>2</td>\n",
       "      <td>R4</td>\n",
       "      <td>$1,649,565</td>\n",
       "      <td>13/05/2013</td>\n",
       "    </tr>\n",
       "  </tbody>\n",
       "</table>\n",
       "<p>5 rows × 21 columns</p>\n",
       "</div>"
      ],
      "text/plain": [
       "   BOROUGH               NEIGHBORHOOD  \\\n",
       "0        1                              \n",
       "1        1                              \n",
       "2        1                              \n",
       "3        1                              \n",
       "4        1                              \n",
       "\n",
       "                        BUILDING CLASS CATEGORY TAX CLASS AT PRESENT  BLOCK  \\\n",
       "0  13  CONDOS - ELEVATOR APARTMENTS                                     738   \n",
       "1  13  CONDOS - ELEVATOR APARTMENTS                                     738   \n",
       "2  13  CONDOS - ELEVATOR APARTMENTS                                     738   \n",
       "3  13  CONDOS - ELEVATOR APARTMENTS                                     738   \n",
       "4  13  CONDOS - ELEVATOR APARTMENTS                                     738   \n",
       "\n",
       "    LOT EASE-MENT BUILDING CLASS AT PRESENT  \\\n",
       "0  1306                                       \n",
       "1  1307                                       \n",
       "2  1308                                       \n",
       "3  1309                                       \n",
       "4  1310                                       \n",
       "\n",
       "                                       ADDRESS APART\\nMENT\\nNUMBER  ...  \\\n",
       "0   345 WEST 14TH   STREET                                          ...   \n",
       "1   345 WEST 14TH   STREET                                          ...   \n",
       "2   345 WEST 14TH   STREET                                          ...   \n",
       "3   345 WEST 14TH   STREET                                          ...   \n",
       "4   345 WEST 14TH   STREET                                          ...   \n",
       "\n",
       "   RESIDENTIAL UNITS COMMERCIAL UNITS  TOTAL UNITS LAND SQUARE FEET  \\\n",
       "0                  0                0            0                0   \n",
       "1                  0                0            0                0   \n",
       "2                  0                0            0                0   \n",
       "3                  0                0            0                0   \n",
       "4                  0                0            0                0   \n",
       "\n",
       "  GROSS SQUARE FEET YEAR BUILT  TAX CLASS AT TIME OF SALE  \\\n",
       "0                 0          0                          2   \n",
       "1                 0          0                          2   \n",
       "2                 0          0                          2   \n",
       "3                 0          0                          2   \n",
       "4                 0          0                          2   \n",
       "\n",
       "   BUILDING CLASS AT TIME OF SALE SALE\\nPRICE   SALE DATE  \n",
       "0                             R4   $2,214,693  20/05/2013  \n",
       "1                             R4   $1,654,656  16/05/2013  \n",
       "2                             R4   $1,069,162  23/05/2013  \n",
       "3                             R4   $1,374,637  15/05/2013  \n",
       "4                             R4   $1,649,565  13/05/2013  \n",
       "\n",
       "[5 rows x 21 columns]"
      ]
     },
     "execution_count": 4,
     "metadata": {},
     "output_type": "execute_result"
    }
   ],
   "source": [
    "df.head()"
   ]
  },
  {
   "attachments": {},
   "cell_type": "markdown",
   "metadata": {},
   "source": [
    "## Part 1\n"
   ]
  },
  {
   "attachments": {},
   "cell_type": "markdown",
   "metadata": {},
   "source": [
    "Preparing data (using aggressive approach)"
   ]
  },
  {
   "cell_type": "code",
   "execution_count": 5,
   "metadata": {},
   "outputs": [],
   "source": [
    "df = df.rename(columns={\"SALE\\nPRICE\":\"SALE PRICE\", \"APART\\nMENT\\nNUMBER\":\"APARTMENT NUMBER\"}) #rename columns"
   ]
  },
  {
   "cell_type": "code",
   "execution_count": 6,
   "metadata": {},
   "outputs": [],
   "source": [
    "def price_to_int(column):\n",
    "    df[column] = df[column].str.replace(',','', regex=True).str.replace('$','', regex=True).astype('int')\n",
    "    \n",
    "price_to_int('SALE PRICE')\n",
    "price_to_int('LAND SQUARE FEET')\n",
    "price_to_int('GROSS SQUARE FEET')"
   ]
  },
  {
   "cell_type": "code",
   "execution_count": 7,
   "metadata": {},
   "outputs": [
    {
     "data": {
      "text/plain": [
       "['BOROUGH',\n",
       " 'BLOCK',\n",
       " 'LOT',\n",
       " 'ZIP CODE',\n",
       " 'COMMERCIAL UNITS',\n",
       " 'LAND SQUARE FEET',\n",
       " 'GROSS SQUARE FEET',\n",
       " 'YEAR BUILT',\n",
       " 'TAX CLASS AT TIME OF SALE',\n",
       " 'SALE PRICE']"
      ]
     },
     "execution_count": 7,
     "metadata": {},
     "output_type": "execute_result"
    }
   ],
   "source": [
    "# list all numerical variables \n",
    "numerical = ['int64', 'int32']\n",
    "df_nums = df.select_dtypes(include=numerical)\n",
    "list(df_nums)"
   ]
  },
  {
   "cell_type": "code",
   "execution_count": 8,
   "metadata": {},
   "outputs": [
    {
     "data": {
      "text/plain": [
       "['NEIGHBORHOOD',\n",
       " 'BUILDING CLASS CATEGORY',\n",
       " 'TAX CLASS AT PRESENT',\n",
       " 'EASE-MENT',\n",
       " 'BUILDING CLASS AT PRESENT',\n",
       " 'ADDRESS',\n",
       " 'APARTMENT NUMBER',\n",
       " 'RESIDENTIAL UNITS',\n",
       " 'TOTAL UNITS',\n",
       " 'BUILDING CLASS AT TIME OF SALE',\n",
       " 'SALE DATE']"
      ]
     },
     "execution_count": 8,
     "metadata": {},
     "output_type": "execute_result"
    }
   ],
   "source": [
    "# list all categorical values\n",
    "categorical = ['object']\n",
    "df_cat = df.select_dtypes(include=categorical)\n",
    "list(df_cat)"
   ]
  },
  {
   "cell_type": "code",
   "execution_count": 9,
   "metadata": {},
   "outputs": [],
   "source": [
    "# convert sale date to datetime\n",
    "df['SALE DATE'] = pd.to_datetime(df['SALE DATE'], dayfirst=True)"
   ]
  },
  {
   "cell_type": "code",
   "execution_count": 10,
   "metadata": {},
   "outputs": [],
   "source": [
    "# replace spaces with NaN\n",
    "# CAUSES ERRORS, NEEDS TO BE RE-DONE!!!!\n",
    "# df = df.replace('^\\s+', np.nan, regex=True)"
   ]
  },
  {
   "cell_type": "code",
   "execution_count": 11,
   "metadata": {},
   "outputs": [
    {
     "data": {
      "text/plain": [
       "BOROUGH                               0\n",
       "NEIGHBORHOOD                          0\n",
       "BUILDING CLASS CATEGORY               0\n",
       "TAX CLASS AT PRESENT                  0\n",
       "BLOCK                                 0\n",
       "LOT                                   0\n",
       "EASE-MENT                             0\n",
       "BUILDING CLASS AT PRESENT             0\n",
       "ADDRESS                               0\n",
       "APARTMENT NUMBER                      0\n",
       "ZIP CODE                              1\n",
       "RESIDENTIAL UNITS                 16372\n",
       "COMMERCIAL UNITS                  23962\n",
       "TOTAL UNITS                        9704\n",
       "LAND SQUARE FEET                  22906\n",
       "GROSS SQUARE FEET                 23069\n",
       "YEAR BUILT                         6441\n",
       "TAX CLASS AT TIME OF SALE             0\n",
       "BUILDING CLASS AT TIME OF SALE        0\n",
       "SALE PRICE                         7593\n",
       "SALE DATE                             0\n",
       "dtype: int64"
      ]
     },
     "execution_count": 11,
     "metadata": {},
     "output_type": "execute_result"
    }
   ],
   "source": [
    "# replace 0 with NaN\n",
    "df.replace(0, np.nan, inplace=True) \n",
    "df.replace(\"0\", np.nan, inplace=True)\n",
    "\n",
    "pd.isnull(df).sum()"
   ]
  },
  {
   "cell_type": "code",
   "execution_count": 12,
   "metadata": {},
   "outputs": [
    {
     "data": {
      "text/html": [
       "<div>\n",
       "<style scoped>\n",
       "    .dataframe tbody tr th:only-of-type {\n",
       "        vertical-align: middle;\n",
       "    }\n",
       "\n",
       "    .dataframe tbody tr th {\n",
       "        vertical-align: top;\n",
       "    }\n",
       "\n",
       "    .dataframe thead th {\n",
       "        text-align: right;\n",
       "    }\n",
       "</style>\n",
       "<table border=\"1\" class=\"dataframe\">\n",
       "  <thead>\n",
       "    <tr style=\"text-align: right;\">\n",
       "      <th></th>\n",
       "      <th>BOROUGH</th>\n",
       "      <th>BLOCK</th>\n",
       "      <th>LOT</th>\n",
       "      <th>ZIP CODE</th>\n",
       "      <th>COMMERCIAL UNITS</th>\n",
       "      <th>LAND SQUARE FEET</th>\n",
       "      <th>GROSS SQUARE FEET</th>\n",
       "      <th>YEAR BUILT</th>\n",
       "      <th>TAX CLASS AT TIME OF SALE</th>\n",
       "      <th>SALE PRICE</th>\n",
       "    </tr>\n",
       "  </thead>\n",
       "  <tbody>\n",
       "    <tr>\n",
       "      <th>count</th>\n",
       "      <td>27395.0</td>\n",
       "      <td>27395.000000</td>\n",
       "      <td>27395.000000</td>\n",
       "      <td>27394.000000</td>\n",
       "      <td>3433.000000</td>\n",
       "      <td>4489.000000</td>\n",
       "      <td>4.326000e+03</td>\n",
       "      <td>20954.000000</td>\n",
       "      <td>27395.000000</td>\n",
       "      <td>1.980200e+04</td>\n",
       "    </tr>\n",
       "    <tr>\n",
       "      <th>mean</th>\n",
       "      <td>1.0</td>\n",
       "      <td>1109.666728</td>\n",
       "      <td>741.789086</td>\n",
       "      <td>10029.226217</td>\n",
       "      <td>2.992426</td>\n",
       "      <td>5893.466028</td>\n",
       "      <td>6.061620e+04</td>\n",
       "      <td>1953.080557</td>\n",
       "      <td>2.488118</td>\n",
       "      <td>2.556609e+06</td>\n",
       "    </tr>\n",
       "    <tr>\n",
       "      <th>std</th>\n",
       "      <td>0.0</td>\n",
       "      <td>465.994469</td>\n",
       "      <td>819.422424</td>\n",
       "      <td>34.966983</td>\n",
       "      <td>12.689861</td>\n",
       "      <td>7884.729624</td>\n",
       "      <td>8.111694e+04</td>\n",
       "      <td>37.692641</td>\n",
       "      <td>0.891723</td>\n",
       "      <td>1.916295e+07</td>\n",
       "    </tr>\n",
       "    <tr>\n",
       "      <th>min</th>\n",
       "      <td>1.0</td>\n",
       "      <td>7.000000</td>\n",
       "      <td>1.000000</td>\n",
       "      <td>10001.000000</td>\n",
       "      <td>1.000000</td>\n",
       "      <td>200.000000</td>\n",
       "      <td>2.530000e+02</td>\n",
       "      <td>1000.000000</td>\n",
       "      <td>1.000000</td>\n",
       "      <td>1.000000e+00</td>\n",
       "    </tr>\n",
       "    <tr>\n",
       "      <th>25%</th>\n",
       "      <td>1.0</td>\n",
       "      <td>877.000000</td>\n",
       "      <td>37.000000</td>\n",
       "      <td>10016.000000</td>\n",
       "      <td>1.000000</td>\n",
       "      <td>2104.000000</td>\n",
       "      <td>6.198500e+03</td>\n",
       "      <td>1920.000000</td>\n",
       "      <td>2.000000</td>\n",
       "      <td>3.676662e+05</td>\n",
       "    </tr>\n",
       "    <tr>\n",
       "      <th>50%</th>\n",
       "      <td>1.0</td>\n",
       "      <td>1047.000000</td>\n",
       "      <td>1007.000000</td>\n",
       "      <td>10019.000000</td>\n",
       "      <td>2.000000</td>\n",
       "      <td>5046.000000</td>\n",
       "      <td>2.337150e+04</td>\n",
       "      <td>1955.000000</td>\n",
       "      <td>2.000000</td>\n",
       "      <td>7.400000e+05</td>\n",
       "    </tr>\n",
       "    <tr>\n",
       "      <th>75%</th>\n",
       "      <td>1.0</td>\n",
       "      <td>1411.000000</td>\n",
       "      <td>1233.000000</td>\n",
       "      <td>10027.000000</td>\n",
       "      <td>2.000000</td>\n",
       "      <td>7532.000000</td>\n",
       "      <td>1.128500e+05</td>\n",
       "      <td>1987.000000</td>\n",
       "      <td>4.000000</td>\n",
       "      <td>1.627399e+06</td>\n",
       "    </tr>\n",
       "    <tr>\n",
       "      <th>max</th>\n",
       "      <td>1.0</td>\n",
       "      <td>2250.000000</td>\n",
       "      <td>9117.000000</td>\n",
       "      <td>10463.000000</td>\n",
       "      <td>604.000000</td>\n",
       "      <td>213650.000000</td>\n",
       "      <td>1.970736e+06</td>\n",
       "      <td>2013.000000</td>\n",
       "      <td>4.000000</td>\n",
       "      <td>1.307965e+09</td>\n",
       "    </tr>\n",
       "  </tbody>\n",
       "</table>\n",
       "</div>"
      ],
      "text/plain": [
       "       BOROUGH         BLOCK           LOT      ZIP CODE  COMMERCIAL UNITS  \\\n",
       "count  27395.0  27395.000000  27395.000000  27394.000000       3433.000000   \n",
       "mean       1.0   1109.666728    741.789086  10029.226217          2.992426   \n",
       "std        0.0    465.994469    819.422424     34.966983         12.689861   \n",
       "min        1.0      7.000000      1.000000  10001.000000          1.000000   \n",
       "25%        1.0    877.000000     37.000000  10016.000000          1.000000   \n",
       "50%        1.0   1047.000000   1007.000000  10019.000000          2.000000   \n",
       "75%        1.0   1411.000000   1233.000000  10027.000000          2.000000   \n",
       "max        1.0   2250.000000   9117.000000  10463.000000        604.000000   \n",
       "\n",
       "       LAND SQUARE FEET  GROSS SQUARE FEET    YEAR BUILT  \\\n",
       "count       4489.000000       4.326000e+03  20954.000000   \n",
       "mean        5893.466028       6.061620e+04   1953.080557   \n",
       "std         7884.729624       8.111694e+04     37.692641   \n",
       "min          200.000000       2.530000e+02   1000.000000   \n",
       "25%         2104.000000       6.198500e+03   1920.000000   \n",
       "50%         5046.000000       2.337150e+04   1955.000000   \n",
       "75%         7532.000000       1.128500e+05   1987.000000   \n",
       "max       213650.000000       1.970736e+06   2013.000000   \n",
       "\n",
       "       TAX CLASS AT TIME OF SALE    SALE PRICE  \n",
       "count               27395.000000  1.980200e+04  \n",
       "mean                    2.488118  2.556609e+06  \n",
       "std                     0.891723  1.916295e+07  \n",
       "min                     1.000000  1.000000e+00  \n",
       "25%                     2.000000  3.676662e+05  \n",
       "50%                     2.000000  7.400000e+05  \n",
       "75%                     4.000000  1.627399e+06  \n",
       "max                     4.000000  1.307965e+09  "
      ]
     },
     "execution_count": 12,
     "metadata": {},
     "output_type": "execute_result"
    }
   ],
   "source": [
    "df.describe()"
   ]
  },
  {
   "cell_type": "code",
   "execution_count": 13,
   "metadata": {},
   "outputs": [],
   "source": [
    "df = df.drop(columns=['BOROUGH', 'EASE-MENT', 'APARTMENT NUMBER'])"
   ]
  },
  {
   "cell_type": "code",
   "execution_count": 14,
   "metadata": {},
   "outputs": [
    {
     "data": {
      "text/plain": [
       "1593"
      ]
     },
     "execution_count": 14,
     "metadata": {},
     "output_type": "execute_result"
    }
   ],
   "source": [
    "# finding out how many dupliactes there are by subtracting duplicates from 'drop duplicates' from entire dataframe\n",
    "len(df)-len(df.drop_duplicates())"
   ]
  },
  {
   "cell_type": "code",
   "execution_count": 15,
   "metadata": {},
   "outputs": [
    {
     "data": {
      "text/plain": [
       "(25072, 18)"
      ]
     },
     "execution_count": 15,
     "metadata": {},
     "output_type": "execute_result"
    }
   ],
   "source": [
    "df.drop_duplicates(keep=False, inplace=True)\n",
    "\n",
    "df.shape"
   ]
  },
  {
   "cell_type": "code",
   "execution_count": 16,
   "metadata": {},
   "outputs": [],
   "source": [
    "# dropping null values\n",
    "pd.isnull(df).sum()\n",
    "\n",
    "df = df.dropna()"
   ]
  },
  {
   "cell_type": "code",
   "execution_count": null,
   "metadata": {},
   "outputs": [],
   "source": [
    "# identifying outliers"
   ]
  },
  {
   "cell_type": "code",
   "execution_count": 17,
   "metadata": {},
   "outputs": [
    {
     "data": {
      "text/plain": [
       "(467, 18)"
      ]
     },
     "execution_count": 17,
     "metadata": {},
     "output_type": "execute_result"
    }
   ],
   "source": [
    "df.shape"
   ]
  }
 ],
 "metadata": {
  "kernelspec": {
   "display_name": "Python 3",
   "language": "python",
   "name": "python3"
  },
  "language_info": {
   "codemirror_mode": {
    "name": "ipython",
    "version": 3
   },
   "file_extension": ".py",
   "mimetype": "text/x-python",
   "name": "python",
   "nbconvert_exporter": "python",
   "pygments_lexer": "ipython3",
   "version": "3.10.10"
  },
  "orig_nbformat": 4
 },
 "nbformat": 4,
 "nbformat_minor": 2
}
